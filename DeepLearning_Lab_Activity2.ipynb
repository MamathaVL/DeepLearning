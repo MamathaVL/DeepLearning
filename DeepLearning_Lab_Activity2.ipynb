{
 "cells": [
  {
   "cell_type": "code",
   "execution_count": 3,
   "metadata": {},
   "outputs": [
    {
     "data": {
      "text/plain": [
       "range(0, 10)"
      ]
     },
     "execution_count": 3,
     "metadata": {},
     "output_type": "execute_result"
    }
   ],
   "source": [
    "#Range() is a Built in function generates a sequence of numbers, which is generally used to iterate over the for loop\n",
    "range(10)"
   ]
  },
  {
   "cell_type": "code",
   "execution_count": 4,
   "metadata": {},
   "outputs": [
    {
     "name": "stdout",
     "output_type": "stream",
     "text": [
      "range(0, 10)\n"
     ]
    }
   ],
   "source": [
    "print(range(10))"
   ]
  },
  {
   "cell_type": "code",
   "execution_count": 8,
   "metadata": {},
   "outputs": [
    {
     "name": "stdout",
     "output_type": "stream",
     "text": [
      "0\n",
      "1\n",
      "2\n",
      "3\n",
      "4\n",
      "5\n",
      "6\n",
      "7\n",
      "8\n",
      "9\n"
     ]
    }
   ],
   "source": [
    "for i in range(10):\n",
    "    print(i)"
   ]
  },
  {
   "cell_type": "code",
   "execution_count": 10,
   "metadata": {},
   "outputs": [
    {
     "name": "stdout",
     "output_type": "stream",
     "text": [
      "Today is a Good Day\n",
      "Today is a Good Day\n",
      "Today is a Good Day\n",
      "Today is a Good Day\n",
      "Today is a Good Day\n",
      "Today is a Good Day\n",
      "Today is a Good Day\n",
      "Today is a Good Day\n",
      "Today is a Good Day\n",
      "Today is a Good Day\n"
     ]
    }
   ],
   "source": [
    "for i in range(10):\n",
    "    print(\"Today is a Good Day\")"
   ]
  },
  {
   "cell_type": "code",
   "execution_count": 11,
   "metadata": {},
   "outputs": [
    {
     "name": "stdout",
     "output_type": "stream",
     "text": [
      "0\n",
      "1\n",
      "8\n",
      "27\n",
      "64\n",
      "125\n",
      "216\n",
      "343\n",
      "512\n",
      "729\n"
     ]
    }
   ],
   "source": [
    "#To find the Cube of a number with in the range\n",
    "for i in range(10):\n",
    "    x=i**3\n",
    "    print(x)"
   ]
  },
  {
   "cell_type": "code",
   "execution_count": 10,
   "metadata": {},
   "outputs": [
    {
     "name": "stdout",
     "output_type": "stream",
     "text": [
      "1\n",
      "8\n",
      "27\n",
      "64\n",
      "125\n",
      "216\n",
      "343\n",
      "512\n",
      "729\n",
      "1000\n",
      "1576612505.9723465\n",
      "1576612505.9733696\n",
      "Total time Taken by for loop is 0.0010230541229248047\n"
     ]
    }
   ],
   "source": [
    "#Execution time of for loop\n",
    "import time\n",
    "start_time=time.time()\n",
    "for i in range(1,11):\n",
    "    print(i**3)\n",
    "end_time=time.time()\n",
    "print(start_time)\n",
    "print(end_time)\n",
    "print(\"Total time Taken by for loop is\",time.time() - start_time)"
   ]
  },
  {
   "cell_type": "code",
   "execution_count": 9,
   "metadata": {},
   "outputs": [
    {
     "name": "stdout",
     "output_type": "stream",
     "text": [
      "1\n",
      "8\n",
      "27\n",
      "64\n",
      "125\n",
      "216\n",
      "343\n",
      "512\n",
      "729\n",
      "1000\n",
      "1576612482.0170794\n",
      "1576612482.0181081\n",
      "Total time Taken by while loop is 0.0010287761688232422\n"
     ]
    }
   ],
   "source": [
    "#Execution time of while loop\n",
    "import time\n",
    "start_time=time.time()\n",
    "num=1\n",
    "while(num<11):\n",
    "    print(num**3)\n",
    "    num=num+1\n",
    "end_time=time.time() \n",
    "print(start_time)\n",
    "print(end_time)\n",
    "print(\"Total time Taken by while loop is\",time.time() - start_time)"
   ]
  },
  {
   "cell_type": "code",
   "execution_count": 16,
   "metadata": {},
   "outputs": [
    {
     "name": "stdout",
     "output_type": "stream",
     "text": [
      "1\n",
      "27\n",
      "125\n",
      "343\n",
      "729\n"
     ]
    }
   ],
   "source": [
    "#Finding a cube of the number with in the range with step size 2\n",
    "for i in range(1,11,2):\n",
    "    print(i**3)"
   ]
  },
  {
   "cell_type": "code",
   "execution_count": 32,
   "metadata": {},
   "outputs": [
    {
     "name": "stdout",
     "output_type": "stream",
     "text": [
      "1000\n"
     ]
    }
   ],
   "source": [
    "#Finding cube of a number using a function\n",
    "def cube(x):\n",
    "    x=x**3\n",
    "    return x\n",
    "\n",
    "num=10\n",
    "result=cube(num)\n",
    "print(result)\n"
   ]
  },
  {
   "cell_type": "code",
   "execution_count": 8,
   "metadata": {},
   "outputs": [
    {
     "name": "stdout",
     "output_type": "stream",
     "text": [
      "2.0\n",
      "120\n",
      "4\n",
      "3\n",
      "2.0\n"
     ]
    }
   ],
   "source": [
    "#Performing complex mathematical calculations using in built functions of Math Library \n",
    "import math as m\n",
    "print(m.sqrt(4))\n",
    "print(m.factorial(5))\n",
    "print(m.ceil(3.4))\n",
    "print(m.floor(3.2))\n",
    "print(m.fabs(-2))"
   ]
  },
  {
   "cell_type": "code",
   "execution_count": 6,
   "metadata": {},
   "outputs": [
    {
     "ename": "NameError",
     "evalue": "name 'm' is not defined",
     "output_type": "error",
     "traceback": [
      "\u001b[1;31m---------------------------------------------------------------------------\u001b[0m",
      "\u001b[1;31mNameError\u001b[0m                                 Traceback (most recent call last)",
      "\u001b[1;32m<ipython-input-6-b4c3e4dfa4a6>\u001b[0m in \u001b[0;36m<module>\u001b[1;34m\u001b[0m\n\u001b[1;32m----> 1\u001b[1;33m \u001b[0mprint\u001b[0m\u001b[1;33m(\u001b[0m\u001b[0mm\u001b[0m\u001b[1;33m.\u001b[0m\u001b[0mgcd\u001b[0m\u001b[1;33m(\u001b[0m\u001b[1;36m4\u001b[0m\u001b[1;33m,\u001b[0m\u001b[1;36m2\u001b[0m\u001b[1;33m)\u001b[0m\u001b[1;33m)\u001b[0m\u001b[1;33m\u001b[0m\u001b[1;33m\u001b[0m\u001b[0m\n\u001b[0m",
      "\u001b[1;31mNameError\u001b[0m: name 'm' is not defined"
     ]
    }
   ],
   "source": [
    "#Import in one cell and using the referenced variable in the next cell works perfectly\n",
    "#But,After shut down the jupyter notebook and running this line of code directly gives an error \"not defined\"\n",
    "print(m.gcd(4,2))"
   ]
  },
  {
   "cell_type": "code",
   "execution_count": 10,
   "metadata": {},
   "outputs": [
    {
     "name": "stdout",
     "output_type": "stream",
     "text": [
      "2\n"
     ]
    }
   ],
   "source": [
    "#After restart Jupyter notebook, execution of import code and then the referenced variable line of code works perfectly\n",
    "print(m.gcd(4,2))"
   ]
  }
 ],
 "metadata": {
  "kernelspec": {
   "display_name": "Python 3",
   "language": "python",
   "name": "python3"
  },
  "language_info": {
   "codemirror_mode": {
    "name": "ipython",
    "version": 3
   },
   "file_extension": ".py",
   "mimetype": "text/x-python",
   "name": "python",
   "nbconvert_exporter": "python",
   "pygments_lexer": "ipython3",
   "version": "3.7.3"
  }
 },
 "nbformat": 4,
 "nbformat_minor": 2
}
