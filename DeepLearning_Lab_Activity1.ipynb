{
 "cells": [
  {
   "cell_type": "code",
   "execution_count": 1,
   "metadata": {},
   "outputs": [
    {
     "name": "stdout",
     "output_type": "stream",
     "text": [
      "Shakespeare was born and raised in Stratford-upon-Avon, Warwickshire.\n"
     ]
    }
   ],
   "source": [
    "#Single Quotes\n",
    "str='Shakespeare was born and raised in Stratford-upon-Avon, Warwickshire.'\n",
    "print(str)"
   ]
  },
  {
   "cell_type": "code",
   "execution_count": 2,
   "metadata": {},
   "outputs": [
    {
     "name": "stdout",
     "output_type": "stream",
     "text": [
      "Shakespeare was born and raised in Stratford-upon-Avon, Warwickshire.\n"
     ]
    }
   ],
   "source": [
    "#Double Quotes\n",
    "str=\"Shakespeare was born and raised in Stratford-upon-Avon, Warwickshire.\"\n",
    "print(str)"
   ]
  },
  {
   "cell_type": "code",
   "execution_count": 1,
   "metadata": {},
   "outputs": [
    {
     "name": "stdout",
     "output_type": "stream",
     "text": [
      "Shakespeare was born and raised in Stratford-upon-Avon, Warwickshire.\n"
     ]
    }
   ],
   "source": [
    "#Triple Quotes\n",
    "str='''Shakespeare was born and raised in Stratford-upon-Avon, Warwickshire.'''\n",
    "print(str)"
   ]
  },
  {
   "cell_type": "code",
   "execution_count": 4,
   "metadata": {},
   "outputs": [
    {
     "ename": "SyntaxError",
     "evalue": "invalid syntax (<ipython-input-4-112b7d62f060>, line 1)",
     "output_type": "error",
     "traceback": [
      "\u001b[1;36m  File \u001b[1;32m\"<ipython-input-4-112b7d62f060>\"\u001b[1;36m, line \u001b[1;32m1\u001b[0m\n\u001b[1;33m    passage = \"William Shakespeare (bapt. 26 April 1564 – 23 April 1616)[a] was an English poet, playwright, and actor, widely regarded as the greatest writer in the English language and the world's greatest dramatist.[2][3][4] He is often called England's national poet and the \"Bard of Avon\" (or simply \"the Bard\").[5][b] His extant works, including collaborations, consist of some 39 plays,[c] 154 sonnets, two long narrative poems, and a few other verses, some of uncertain authorship. His plays have been translated into every major living language and are performed more often than those of any other playwright.[7]\"\u001b[0m\n\u001b[1;37m                                                                                                                                                                                                                                                                                           ^\u001b[0m\n\u001b[1;31mSyntaxError\u001b[0m\u001b[1;31m:\u001b[0m invalid syntax\n"
     ]
    }
   ],
   "source": [
    "#Multi Line String\n",
    "passage = \"William Shakespeare (bapt. 26 April 1564 – 23 April 1616)[a] was an English poet, playwright, and actor, widely regarded as the greatest writer in the English language and the world's greatest dramatist.[2][3][4] He is often called England's national poet and the \"Bard of Avon\" (or simply \"the Bard\").[5][b] His extant works, including collaborations, consist of some 39 plays,[c] 154 sonnets, two long narrative poems, and a few other verses, some of uncertain authorship. His plays have been translated into every major living language and are performed more often than those of any other playwright.[7]\"\n",
    "print(passage)"
   ]
  },
  {
   "cell_type": "code",
   "execution_count": 5,
   "metadata": {},
   "outputs": [
    {
     "name": "stdout",
     "output_type": "stream",
     "text": [
      "William Shakespeare (bapt. 26 April 1564 – 23 April 1616)[a] was an English poet, playwright, and actor, widely regarded as the greatest writer in the English language and the world's greatest dramatist.[2][3][4] He is often called England's national poet and the \"Bard of Avon\" (or simply \"the Bard\").[5][b] His extant works, including collaborations, consist of some 39 plays,[c] 154 sonnets, two long narrative poems, and a few other verses, some of uncertain authorship. His plays have been translated into every major living language and are performed more often than those of any other playwright.[7]\n"
     ]
    }
   ],
   "source": [
    "#Triple Quotes used for MultiLine String\n",
    "passage = '''William Shakespeare (bapt. 26 April 1564 – 23 April 1616)[a] was an English poet, playwright, and actor, widely regarded as the greatest writer in the English language and the world's greatest dramatist.[2][3][4] He is often called England's national poet and the \"Bard of Avon\" (or simply \"the Bard\").[5][b] His extant works, including collaborations, consist of some 39 plays,[c] 154 sonnets, two long narrative poems, and a few other verses, some of uncertain authorship. His plays have been translated into every major living language and are performed more often than those of any other playwright.[7]'''\n",
    "print(passage)"
   ]
  },
  {
   "cell_type": "code",
   "execution_count": 6,
   "metadata": {},
   "outputs": [
    {
     "ename": "SyntaxError",
     "evalue": "invalid syntax (<ipython-input-6-a50f8d877c5a>, line 1)",
     "output_type": "error",
     "traceback": [
      "\u001b[1;36m  File \u001b[1;32m\"<ipython-input-6-a50f8d877c5a>\"\u001b[1;36m, line \u001b[1;32m1\u001b[0m\n\u001b[1;33m    str='Many of Shakespeare's plays were published in editions of varying quality and accuracy in his lifetime.'\u001b[0m\n\u001b[1;37m                             ^\u001b[0m\n\u001b[1;31mSyntaxError\u001b[0m\u001b[1;31m:\u001b[0m invalid syntax\n"
     ]
    }
   ],
   "source": [
    "#Using apostrophe inside the single quotes gives error,as python consider apostrophe as single quote\n",
    "#that signifies the end of the string.\n",
    "#Thus it gives invalid syntax error\n",
    "str='Many of Shakespeare's plays were published in editions of varying quality and accuracy in his lifetime.'\n",
    "print(str)"
   ]
  },
  {
   "cell_type": "code",
   "execution_count": 8,
   "metadata": {},
   "outputs": [
    {
     "name": "stdout",
     "output_type": "stream",
     "text": [
      "Many of Shakespeare's plays were published in editions of varying quality and accuracy in his lifetime.\n"
     ]
    }
   ],
   "source": [
    "#So, wrap the String with the Double quotes. It works perfectly\n",
    "str=\"Many of Shakespeare's plays were published in editions of varying quality and accuracy in his lifetime.\"\n",
    "print(str)"
   ]
  },
  {
   "cell_type": "code",
   "execution_count": 9,
   "metadata": {},
   "outputs": [
    {
     "name": "stdout",
     "output_type": "stream",
     "text": [
      "['Madrid', 'Monaco', 'Dublin', 'Vaduz', 'Paris', 'Berlin', 'Amsterdam', 'London', 'Riga', 'Berlin']\n"
     ]
    }
   ],
   "source": [
    "#List\n",
    "# Visiting 10 Cities of Europe since I won a lottery of $2 million\n",
    "cities = ['Madrid','Monaco','Dublin','Vaduz','Paris','Berlin','Amsterdam','London','Riga','Berlin']\n",
    "print(cities)"
   ]
  },
  {
   "cell_type": "code",
   "execution_count": 10,
   "metadata": {},
   "outputs": [
    {
     "name": "stdout",
     "output_type": "stream",
     "text": [
      "['Madrid', 'Monaco', 'Dublin', 'Vaduz', 'Paris', 'Berlin', 'Amsterdam', 'London', 'Riga', 'Berlin', 'Rome']\n"
     ]
    }
   ],
   "source": [
    "#List is Mutable\n",
    "cities.append('Rome')\n",
    "print(cities)"
   ]
  },
  {
   "cell_type": "code",
   "execution_count": 11,
   "metadata": {},
   "outputs": [
    {
     "name": "stdout",
     "output_type": "stream",
     "text": [
      "['Madrid', 'Monaco', 'Dublin', 'Vaduz', 'Paris', 'Berlin', 'Amsterdam', 'London', 'Riga', 'Rome']\n"
     ]
    }
   ],
   "source": [
    "#Deletion of element using del keyword \n",
    "del cities[9]\n",
    "print(cities)"
   ]
  },
  {
   "cell_type": "code",
   "execution_count": 12,
   "metadata": {},
   "outputs": [
    {
     "name": "stdout",
     "output_type": "stream",
     "text": [
      "['Madrid', 'Monaco', 'Vaduz', 'Paris', 'Berlin', 'Amsterdam', 'London', 'Riga', 'Rome']\n"
     ]
    }
   ],
   "source": [
    "#Deletion of element using remove method\n",
    "cities.remove('Dublin')\n",
    "print(cities)"
   ]
  },
  {
   "cell_type": "code",
   "execution_count": 13,
   "metadata": {},
   "outputs": [
    {
     "name": "stdout",
     "output_type": "stream",
     "text": [
      "('Madrid', 'Monaco', 'Dublin', 'Vaduz', 'Paris', 'Berlin', 'Amsterdam', 'London', 'Riga', 'Berlin')\n"
     ]
    }
   ],
   "source": [
    "#Tuple\n",
    "cities_tuple = ('Madrid','Monaco','Dublin','Vaduz','Paris','Berlin','Amsterdam','London','Riga','Berlin')\n",
    "print(cities_tuple)"
   ]
  },
  {
   "cell_type": "code",
   "execution_count": 14,
   "metadata": {},
   "outputs": [
    {
     "name": "stdout",
     "output_type": "stream",
     "text": [
      "{1001: 'Sita', 1002: 'Meera', 1003: 'Priya', 1004: 'Smita', 1005: 'Maya'}\n"
     ]
    }
   ],
   "source": [
    "#Dictionaries\n",
    "## RegisterNumber: Student Name\n",
    "student_dic = {1001:'Sita', 1002:'Meera', 1003:'Priya', 1004:'Smita', 1005:'Maya'}\n",
    "print(student_dic)"
   ]
  }
 ],
 "metadata": {
  "kernelspec": {
   "display_name": "Python 3",
   "language": "python",
   "name": "python3"
  },
  "language_info": {
   "codemirror_mode": {
    "name": "ipython",
    "version": 3
   },
   "file_extension": ".py",
   "mimetype": "text/x-python",
   "name": "python",
   "nbconvert_exporter": "python",
   "pygments_lexer": "ipython3",
   "version": "3.7.3"
  }
 },
 "nbformat": 4,
 "nbformat_minor": 2
}
